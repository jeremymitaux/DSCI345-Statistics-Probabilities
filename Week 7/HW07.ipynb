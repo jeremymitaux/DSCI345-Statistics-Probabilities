{
 "cells": [
  {
   "cell_type": "markdown",
   "id": "59742dcb",
   "metadata": {
    "editable": true,
    "slideshow": {
     "slide_type": ""
    },
    "tags": []
   },
   "source": [
    "# Homework 7: Linear models.\n",
    "\n",
    "*Instructions:*\n",
    "Please answer the following questions and submit your work\n",
    "by editing this jupyter notebook and submitting it on Canvas.\n",
    "Questions may involve math, programming, or neither,\n",
    "but you should make sure to *explain your work*:\n",
    "i.e., you should usually have a cell with at least a few sentences\n",
    "explaining what you are doing.\n",
    "\n",
    "Also, please be sure to always specify units of any quantities that have units,\n",
    "and label axes of plots (again, with units when appropriate)."
   ]
  },
  {
   "cell_type": "code",
   "execution_count": 41,
   "id": "03fe74bf",
   "metadata": {
    "editable": true,
    "slideshow": {
     "slide_type": ""
    },
    "tags": []
   },
   "outputs": [],
   "source": [
    "import numpy as np\n",
    "import matplotlib.pyplot as plt\n",
    "rng = np.random.default_rng(123)"
   ]
  },
  {
   "cell_type": "markdown",
   "id": "d9aaa1a3-3b5d-4568-b7f0-dbc62a17966f",
   "metadata": {
    "editable": true,
    "slideshow": {
     "slide_type": ""
    },
    "tags": []
   },
   "source": [
    "# 1. All models are wrong\n",
    "\n",
    "Suppose that you have data that has *heteroskedasticity*:\n",
    "the standard deviation is not constant:\n",
    "$$\\begin{aligned}\n",
    "    X_I &\\sim \\text{Poisson}(\\text{mean}=2) \\\\\n",
    "    Y_i &\\sim \\text{Normal}(\\text{mean}= a X_i + b, \\text{sd}=a X_i / 4) .\n",
    "\\end{aligned}$$\n",
    "Because of the heteroskedasticity, this does not satisfy the usual assumptions of a linear model.\n",
    "However, you'd like to use the standard (least squares) linear model to analyze the data;\n",
    "how well does this work in practice? To answer this question\n",
    "\n",
    "*(a)* Write a function that simulates a dataset from the model above.\n",
    "The sample size, $n$, should be an argument to the function,\n",
    "as well as $a$ and $b$.\n",
    "\n",
    "*(b)* Simulate one data set with $n=100$, $a=5$, and $b=1$,\n",
    "and fit a (standard, least squares) linear model to the data.\n",
    "You can use either the formula from class or scikit-learn.\n",
    "Plot or otherwise depict the data and predicted values from the model\n",
    "(e.g., the line on top of the scatter).\n",
    "\n",
    "*(c)* Do the same thing as in (b) for at least 100 additional simulated datasets,\n",
    "then report across these datasets how well the values of $a$ and $b$ were estimated\n",
    "(i.e., how close the estimates were to the true values of $a=5$ and $b=1$).\n",
    "Summarize the results."
   ]
  },
  {
   "cell_type": "markdown",
   "id": "0dd4f6d8-f8d3-4371-924e-f8f3b22159a3",
   "metadata": {},
   "source": [
    "**(a)**"
   ]
  },
  {
   "cell_type": "code",
   "execution_count": 45,
   "id": "f0031331-da5a-45db-926d-cba8cb537fe8",
   "metadata": {},
   "outputs": [],
   "source": [
    "def sim_data(n, a, b):\n",
    "    X = np.random.poisson(lam=2, size=n)\n",
    "    Y = np.random.normal(loc=a*X+b, scale=(a*X)/4)\n",
    "    return np.column_stack([X, Y])"
   ]
  },
  {
   "cell_type": "markdown",
   "id": "1f6d337a-ef91-4034-844b-c022d4437253",
   "metadata": {},
   "source": [
    "**(b)**"
   ]
  },
  {
   "cell_type": "code",
   "execution_count": 120,
   "id": "32780a53-d806-4589-9bfa-0c90d81a3b63",
   "metadata": {},
   "outputs": [
    {
     "data": {
      "image/png": "[encoded data removed]",
      "text/plain": [
       "<Figure size 500x300 with 1 Axes>"
      ]
     },
     "metadata": {},
     "output_type": "display_data"
    }
   ],
   "source": [
    "from sklearn.linear_model import LinearRegression\n",
    "\n",
    "data = sim_data(n=100, a=5, b=1)\n",
    "X = data[:, 0].reshape(-1, 1)\n",
    "Y = data[:, 1].reshape(-1, 1)\n",
    "model = LinearRegression(fit_intercept=True, positive=False)\n",
    "model.fit(X, Y)\n",
    "Y_pred = model.predict(X)\n",
    "\n",
    "plt.figure(figsize=(5, 3))\n",
    "plt.scatter(X, Y, alpha=0.6)\n",
    "plt.plot(X, Y_pred, color='red')\n",
    "plt.title(\"Predicted Values with Least Squares\")\n",
    "plt.grid(True)\n",
    "plt.show()"
   ]
  },
  {
   "cell_type": "markdown",
   "id": "acb975df-7ff9-4d2a-88cd-9e8687e2a9fd",
   "metadata": {},
   "source": [
    "**(c)**  Do the same thing as in (b) for at least 100 additional simulated datasets,\n",
    "then report across these datasets how well the values of $a$ and $b$ were estimated\n",
    "(i.e., how close the estimates were to the true values of $a=5$ and $b=1$).\n",
    "Summarize the results."
   ]
  },
  {
   "cell_type": "code",
   "execution_count": 96,
   "id": "ea467a32-40d1-4cfa-8558-ef6031bb4746",
   "metadata": {},
   "outputs": [
    {
     "name": "stdout",
     "output_type": "stream",
     "text": [
      "average estimated slope: 5.0688 (true value: 5)\n",
      "standard deviation of slope estimates: 0.3575\n",
      "average estimated intercept: 0.9309 (true value: 1)\n",
      "Standard deviation of intercept estimates: 0.5058\n"
     ]
    }
   ],
   "source": [
    "slopes = []\n",
    "intercepts = []\n",
    "\n",
    "for i in range(100):\n",
    "    data = sim_data(n=100, a=5, b=1)\n",
    "    X = data[:, 0].reshape(-1, 1)\n",
    "    Y = data[:, 1].reshape(-1, 1)\n",
    "    Y_pred = LinearRegression(fit_intercept=True, positive=False)\n",
    "    model = LinearRegression()\n",
    "    model.fit(X, Y)\n",
    "    slopes.append(model.coef_[0][0])\n",
    "    intercepts.append(model.intercept_[0])\n",
    "\n",
    "slopes = np.array(slopes)\n",
    "intercepts = np.array(intercepts)\n",
    "\n",
    "print(f\"average estimated slope: {slopes.mean():.4f} (true value: 5)\")\n",
    "print(f\"standard deviation of slope estimates: {slopes.std():.4f}\")\n",
    "print(f\"average estimated intercept: {intercepts.mean():.4f} (true value: 1)\")\n",
    "print(f\"Standard deviation of intercept estimates: {intercepts.std():.4f}\")"
   ]
  },
  {
   "cell_type": "markdown",
   "id": "958de09b",
   "metadata": {
    "editable": true,
    "slideshow": {
     "slide_type": ""
    },
    "tags": []
   },
   "source": [
    "# 2. Eyecatchers\n",
    "\n",
    "Colleagues in web design have proposed adding dynamic eyecatchers to your web page:\n",
    "specifically, animated ducks that dance across the screen.\n",
    "You're skeptical that this is a good idea, but run a small study:\n",
    "sixty-five randomly chosen visitors get shown a random number of ducks,\n",
    "and you record how many seconds the visitors stay on the page.\n",
    "Here are the data:"
   ]
  },
  {
   "cell_type": "code",
   "execution_count": 70,
   "id": "675b75ec",
   "metadata": {
    "editable": true,
    "slideshow": {
     "slide_type": ""
    },
    "tags": []
   },
   "outputs": [],
   "source": [
    "num_ducks = np.array([0, 0, 0, 0, 0, 0, 0, 0, 0, 0, 0, 0, 0, 0, 0, 1, 1, 1, 1, 1, 1, 1,\n",
    "       1, 1, 1, 1, 1, 1, 1, 2, 2, 2, 2, 2, 2, 2, 2, 2, 2, 2, 2, 2, 3, 3,\n",
    "       3, 3, 3, 3, 3, 3, 3, 3, 3, 3, 4, 4, 4, 4, 4, 4, 4, 4, 4, 4, 4])\n",
    "num_seconds = np.array([22.5, 10.1, 31.2, 29.4, 26.9, 39.2, 17.1, 17.1, 34. , 11.4,  0.3,\n",
    "        9.2, 17.9, 16.6, 11.6, 34.6, 14.3, 29.2, 11.2, 26. , 25. , 12.6,\n",
    "       19.6,  6.8, 14.7, 12.2,  2.1, 14. , 12.3, 15.8, 16.9, 10.3,  6.3,\n",
    "        9.8,  0. , 11.3,  7.4,  7.2,  5.7,  4.9,  3.4,  7.4,  2.9,  4.3,\n",
    "        6.3,  5.5,  7.2, 10.7,  6.5,  9. ,  1. ,  1. ,  1. ,  1. ,  1. ,\n",
    "        1. ,  1. ,  1. ,  1. ,  1. ,  1. ,  1. ,  1. ,  1. ,  1. ])"
   ]
  },
  {
   "cell_type": "markdown",
   "id": "42000a28",
   "metadata": {
    "editable": true,
    "slideshow": {
     "slide_type": ""
    },
    "tags": []
   },
   "source": [
    "*(a)* Fit a linear model to these data\n",
    "    to predict how the average amount of time spent on the site\n",
    "    depends on the number of seconds.\n",
    "    You may use either of the methods shown in class:\n",
    "    scikit-learn or direct use of the formula.\n",
    " \n",
    "*(b)* Plot or otherwise display the data and the relationship predicted by the model.\n",
    "\n",
    "*(c)* What are your recommendations, based on this result?\n",
    "    Be sure to give the basis for your recommendation,\n",
    "    including the type of model and the result."
   ]
  },
  {
   "cell_type": "markdown",
   "id": "d7968395-ac9b-4e37-bc54-d1825702fb9f",
   "metadata": {},
   "source": [
    "**(a)** Fit a linear model to data"
   ]
  },
  {
   "cell_type": "code",
   "execution_count": 74,
   "id": "933c3539-9bf2-4684-80f5-466ef62b085e",
   "metadata": {},
   "outputs": [
    {
     "name": "stdout",
     "output_type": "stream",
     "text": [
      "Slope (seconds per duck): -4.9592\n",
      "Intercept: 19.9692\n"
     ]
    }
   ],
   "source": [
    "X = num_ducks.reshape(-1, 1)\n",
    "y = num_seconds\n",
    "\n",
    "model = LinearRegression()\n",
    "model.fit(X, y)\n",
    "y_pred = model.predict(X)\n",
    "\n",
    "print(f\"Slope (seconds per duck): {model.coef_[0]:.4f}\")\n",
    "print(f\"Intercept: {model.intercept_:.4f}\")"
   ]
  },
  {
   "cell_type": "markdown",
   "id": "536c92bf-e7a7-4539-a046-791773ff6682",
   "metadata": {},
   "source": [
    "**(b)** Plot"
   ]
  },
  {
   "cell_type": "code",
   "execution_count": 126,
   "id": "6e55280c-739f-4338-8405-241504d1fe33",
   "metadata": {},
   "outputs": [
    {
     "data": {
      "image/png": "[encoded data removed]",
      "text/plain": [
       "<Figure size 500x300 with 1 Axes>"
      ]
     },
     "metadata": {},
     "output_type": "display_data"
    }
   ],
   "source": [
    "plt.figure(figsize=(5, 3))\n",
    "plt.scatter(num_ducks, num_seconds, alpha=0.6)\n",
    "plt.plot(num_ducks, y_pred, color='red', linewidth=2)\n",
    "plt.xlabel(\"Number of Ducks\")\n",
    "plt.ylabel(\"Time Spend on Page (seconds)\")\n",
    "plt.title(\"Effect of # of Ducks on Time Spent\")\n",
    "plt.grid(True)\n",
    "plt.show()"
   ]
  },
  {
   "cell_type": "markdown",
   "id": "64b0cd73-a7ee-4ea9-b0ab-c28cb73b9acb",
   "metadata": {},
   "source": [
    "**(c)** My recommendation is to not have dynamic eyecatchers on the page as they clearly have a negative effect on the amount of time\n",
    "spent on the page. The model is a simple linear regression via sci-kit learn, with the analysis showing a negative correlation (as the number of ducks rise, the time spent on page decreases). If the goal is to increase engagement, reduce the number of ducks"
   ]
  },
  {
   "cell_type": "markdown",
   "id": "79581cfb",
   "metadata": {
    "editable": true,
    "slideshow": {
     "slide_type": ""
    },
    "tags": []
   },
   "source": [
    "# 3. More mosquitos\n",
    "\n",
    "My kid's class all went camping,\n",
    "and came home with mosquito bites.\n",
    "Thanks to a post-trip poll,\n",
    "we know how many mosquito bites\n",
    "each of the 27 kids had.\n",
    "Here are the numbers:"
   ]
  },
  {
   "cell_type": "code",
   "execution_count": 130,
   "id": "808bc536",
   "metadata": {},
   "outputs": [],
   "source": [
    "bites = np.array([4, 5, 4, 2, 4, 8, 4, 6, 7, 5, 4, 0, 5, 7, 5, 3, 2, 0, 3, 4, 5, 3, 6, 1, 2, 3, 5])"
   ]
  },
  {
   "cell_type": "markdown",
   "id": "b671ef62",
   "metadata": {
    "editable": true,
    "slideshow": {
     "slide_type": ""
    },
    "tags": []
   },
   "source": [
    "Furthermore, a parent has measured the concentration\n",
    "of some volatile organics in each kids' breath.\n",
    "Here are the concentrations for the 27 kids (in the same order as `bites`, above),\n",
    "in units of parts per million (ppm):"
   ]
  },
  {
   "cell_type": "code",
   "execution_count": 133,
   "id": "e2380b77",
   "metadata": {},
   "outputs": [],
   "source": [
    "odor = np.array([ 2.8,  4.4,  6.9,  2.3,  5.9, 10.2,  3.2,  7.6,  6.3,  4.5,  4.3,\n",
    "                0. ,  8.2,  5.4,  7.6,  3.3,  3.9,  0.1,  2.7,  4.7,  2.1,  4.3,\n",
    "               11.3,  1.7,  2.8,  2.9,  8.5])"
   ]
  },
  {
   "cell_type": "markdown",
   "id": "52edf3f3",
   "metadata": {
    "editable": true,
    "slideshow": {
     "slide_type": ""
    },
    "tags": []
   },
   "source": [
    "Our goal is to determine how odor affects the number of bites.\n",
    "To do this, we'll fit a *Poisson* model:\n",
    "if $Y_i$ is the number of bites the $i^\\text{th}$ kid got,\n",
    "and $X_i$ is their \"odor\" value, then we want to fit:\n",
    "$$\\begin{aligned}\n",
    "    Y_i \\sim \\text{Poisson}(\\text{mean}= \\exp(a X_i + b)) ,\n",
    "\\end{aligned}$$\n",
    "i.e., find the values of $a$ and $b$ at which this model\n",
    "best fits the data.\n",
    "To do this:\n",
    "\n",
    "*(a)* Write down (in math) the negative log-likelihood function:\n",
    "    this should take $a$ and $b$ as arguments,\n",
    "    and return the negative log likelihood of the data (i.e., of `bites` and `odor`)\n",
    "    under the model above.\n",
    "\n",
    "*(b)* Use your function from (a) and `scipy.optimize.minimize` to find\n",
    "    the maximum likelihood estimates of $a$ and $b$.\n",
    "\n",
    "*(c)* Showing how expected number of bites (using the MLE values of $a$ and $b$ from (b))\n",
    "    increases with odor and how this compares to the observed number of bites\n",
    "    (for instance, by plot of the data with a line for the expected number).\n",
    "\n",
    "*Note:* we will cover this sort of model more next week,\n",
    "but *you already know how to do this* - it's just doing maximum likelihood\n",
    "to fit a model with two parameters."
   ]
  },
  {
   "cell_type": "markdown",
   "id": "44843732-69f5-4247-ae5e-bf3fafec7ff7",
   "metadata": {},
   "source": [
    "**(a)** Negative log-liklihood function \n",
    "\\begin{aligned}\n",
    "-\\log \\mathcal{L}(a, b)\n",
    "&= \\sum_{i=1}^{n} \\left[ \\exp(a X_i + b) - Y_i(a X_i + b) + \\log(Y_i!) \\right]\n",
    "\\end{aligned}"
   ]
  },
  {
   "cell_type": "markdown",
   "id": "f91af3bd-f7f9-46d1-a2ff-94020be30fca",
   "metadata": {},
   "source": [
    "**(b)**"
   ]
  },
  {
   "cell_type": "code",
   "execution_count": 138,
   "id": "64628d2f-197e-448e-87cf-11145a3346ff",
   "metadata": {},
   "outputs": [
    {
     "name": "stdout",
     "output_type": "stream",
     "text": [
      "MLE estimates:\n",
      "a = 0.1294\n",
      "b = 0.6948\n"
     ]
    }
   ],
   "source": [
    "from scipy.special import gammaln\n",
    "from scipy.optimize import minimize\n",
    "\n",
    "def neg_log_likelihood(params):\n",
    "    a, b = params\n",
    "    lambda_i = np.exp(a * odor + b)\n",
    "    nll = np.sum(lambda_i - bites * (a * odor + b) + gammaln(bites + 1))\n",
    "    return nll\n",
    "\n",
    "initial_guess = [0, 0]  # start at a=0, b=0\n",
    "result = minimize(neg_log_likelihood, initial_guess)\n",
    "\n",
    "# Extract optimal parameters\n",
    "a_hat, b_hat = result.x\n",
    "print(f\"MLE estimates:\\na = {a_hat:.4f}\\nb = {b_hat:.4f}\")"
   ]
  },
  {
   "cell_type": "markdown",
   "id": "ce574126-8315-4786-a5c0-7bf2839a8695",
   "metadata": {},
   "source": [
    "**(c)**"
   ]
  },
  {
   "cell_type": "code",
   "execution_count": 144,
   "id": "78d4ccd7-ee84-44e3-90bb-85303d7d984c",
   "metadata": {},
   "outputs": [
    {
     "data": {
      "image/png": "[encoded data removed]",
      "text/plain": [
       "<Figure size 600x300 with 1 Axes>"
      ]
     },
     "metadata": {},
     "output_type": "display_data"
    }
   ],
   "source": [
    "expected_bites = np.exp(a_hat * odor + b_hat)\n",
    "\n",
    "plt.figure(figsize=(6, 3))\n",
    "plt.scatter(odor, bites, color='blue', alpha=0.5)\n",
    "plt.plot(np.sort(odor), expected_bites[np.argsort(odor)], color='red', linewidth=2)\n",
    "plt.xlabel(\"Odor (ppm)\")\n",
    "plt.ylabel(\"Number of Bites\")\n",
    "plt.title(\"Observed vs Expected Mosquito Bites\")\n",
    "plt.grid(True)\n",
    "plt.show()"
   ]
  },
  {
   "cell_type": "code",
   "execution_count": null,
   "id": "7ffc5fbb-129a-4c58-9085-36d487831713",
   "metadata": {},
   "outputs": [],
   "source": []
  },
  {
   "cell_type": "code",
   "execution_count": null,
   "id": "87b57f5e-1b09-429e-9aaf-dba2d89b4d6c",
   "metadata": {},
   "outputs": [],
   "source": []
  }
 ],
 "metadata": {
  "celltoolbar": "Tags",
  "kernelspec": {
   "display_name": "Python [conda env:base] *",
   "language": "python",
   "name": "conda-base-py"
  },
  "language_info": {
   "codemirror_mode": {
    "name": "ipython",
    "version": 3
   },
   "file_extension": ".py",
   "mimetype": "text/x-python",
   "name": "python",
   "nbconvert_exporter": "python",
   "pygments_lexer": "ipython3",
   "version": "3.12.7"
  }
 },
 "nbformat": 4,
 "nbformat_minor": 5
}
