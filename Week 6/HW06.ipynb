{
 "cells": [
  {
   "cell_type": "markdown",
   "id": "59742dcb",
   "metadata": {
    "editable": true,
    "slideshow": {
     "slide_type": ""
    },
    "tags": []
   },
   "source": [
    "# Homework 6: Correlations.\n",
    "\n",
    "*Instructions:*\n",
    "Please answer the following questions and submit your work\n",
    "by editing this jupyter notebook and submitting it on Canvas.\n",
    "Questions may involve math, programming, or neither,\n",
    "but you should make sure to *explain your work*:\n",
    "i.e., you should usually have a cell with at least a few sentences\n",
    "explaining what you are doing.\n",
    "\n",
    "Also, please be sure to always specify units of any quantities that have units,\n",
    "and label axes of plots (again, with units when appropriate)."
   ]
  },
  {
   "cell_type": "code",
   "execution_count": 135,
   "id": "03fe74bf",
   "metadata": {
    "editable": true,
    "slideshow": {
     "slide_type": ""
    },
    "tags": []
   },
   "outputs": [],
   "source": [
    "import numpy as np\n",
    "import matplotlib.pyplot as plt\n",
    "rng = np.random.default_rng()"
   ]
  },
  {
   "cell_type": "markdown",
   "id": "9497dfc8",
   "metadata": {
    "editable": true,
    "slideshow": {
     "slide_type": ""
    },
    "tags": []
   },
   "source": [
    "# 1. Ever Upwards\n",
    "\n",
    "You are part of a team aiming to predict future costs for a coffee shop,\n",
    "and are given the following model.\n",
    "Let $X_0 = \\$1.50$ be the price (to the shop) of a cup of coffee today,\n",
    "and model the price $n$ weeks from now as $X_n = X_{n-1} + Z_n$,\n",
    "where each $Z_n$ has a Normal distribution with mean \\\\$0.10 and standard deviation \\\\$0.10,\n",
    "and is independent of other $Z$.\n",
    "We want to see how well we can predict prices for the next 10 weeks under this model.\n",
    "\n",
    "*(a)* If we define $Z = (Z_1, Z_2, \\ldots, Z_{10})$,\n",
    "    and $X = (X_1, X_2, \\ldots, X_{10})$,\n",
    "    then we can write $X = X_0 + AZ$ for some matrix $Z$.\n",
    "    What is that matrix?\n",
    "\n",
    "*(b)* What is the mean and covariance matrix of $X$?\n",
    "    Explain, and check by simulation."
   ]
  },
  {
   "cell_type": "markdown",
   "id": "f4708f2e-3487-45b2-ad0c-12ca2cb85915",
   "metadata": {},
   "source": [
    "**(a)** The matrix $A$ "
   ]
  },
  {
   "cell_type": "code",
   "execution_count": 136,
   "id": "43c9de63-1c43-4cb2-b265-d968700e07bf",
   "metadata": {},
   "outputs": [
    {
     "name": "stdout",
     "output_type": "stream",
     "text": [
      "[[1. 0. 0. 0. 0. 0. 0. 0. 0. 0.]\n",
      " [1. 1. 0. 0. 0. 0. 0. 0. 0. 0.]\n",
      " [1. 1. 1. 0. 0. 0. 0. 0. 0. 0.]\n",
      " [1. 1. 1. 1. 0. 0. 0. 0. 0. 0.]\n",
      " [1. 1. 1. 1. 1. 0. 0. 0. 0. 0.]\n",
      " [1. 1. 1. 1. 1. 1. 0. 0. 0. 0.]\n",
      " [1. 1. 1. 1. 1. 1. 1. 0. 0. 0.]\n",
      " [1. 1. 1. 1. 1. 1. 1. 1. 0. 0.]\n",
      " [1. 1. 1. 1. 1. 1. 1. 1. 1. 0.]\n",
      " [1. 1. 1. 1. 1. 1. 1. 1. 1. 1.]]\n"
     ]
    }
   ],
   "source": [
    "A = np.tril(np.ones((10, 10)))\n",
    "print(A)"
   ]
  },
  {
   "cell_type": "markdown",
   "id": "a3b5aec3-80f2-4e57-b8d3-861bea64532d",
   "metadata": {},
   "source": [
    "**(b)** Mean and covariance matrix of $X$"
   ]
  },
  {
   "cell_type": "code",
   "execution_count": 137,
   "id": "a3afa476-d3bd-4177-b4f6-a7d93104079d",
   "metadata": {},
   "outputs": [
    {
     "name": "stdout",
     "output_type": "stream",
     "text": [
      "\n",
      "Mean vector of X:\n",
      "[1.6 1.7 1.8 1.9 2.  2.1 2.2 2.3 2.4 2.5]\n",
      "\n",
      "Covariance matrix of X:\n",
      "[[0.01 0.01 0.01 0.01 0.01 0.01 0.01 0.01 0.01 0.01]\n",
      " [0.01 0.02 0.02 0.02 0.02 0.02 0.02 0.02 0.02 0.02]\n",
      " [0.01 0.02 0.03 0.03 0.03 0.03 0.03 0.03 0.03 0.03]\n",
      " [0.01 0.02 0.03 0.04 0.04 0.04 0.04 0.04 0.04 0.04]\n",
      " [0.01 0.02 0.03 0.04 0.05 0.05 0.05 0.05 0.05 0.05]\n",
      " [0.01 0.02 0.03 0.04 0.05 0.06 0.06 0.06 0.06 0.06]\n",
      " [0.01 0.02 0.03 0.04 0.05 0.06 0.07 0.07 0.07 0.07]\n",
      " [0.01 0.02 0.03 0.04 0.05 0.06 0.07 0.08 0.08 0.08]\n",
      " [0.01 0.02 0.03 0.04 0.05 0.06 0.07 0.08 0.09 0.09]\n",
      " [0.01 0.02 0.03 0.04 0.05 0.06 0.07 0.08 0.09 0.1 ]]\n"
     ]
    }
   ],
   "source": [
    "X0 = 1.50\n",
    "mean = 0.10\n",
    "sd = 0.10\n",
    "\n",
    "\n",
    "mean_vector = mean * np.ones(10)\n",
    "mean_X = X0 + A @ mean_vector\n",
    "\n",
    "cov_X = (sd ** 2) * (A @ A.T)\n",
    "\n",
    "print(\"\\nMean vector of X:\")\n",
    "print(mean_X)\n",
    "\n",
    "print(\"\\nCovariance matrix of X:\")\n",
    "print(cov_X)"
   ]
  },
  {
   "cell_type": "markdown",
   "id": "edc53423-09b9-431b-a8e2-b2dfa9ce5ab6",
   "metadata": {
    "editable": true,
    "slideshow": {
     "slide_type": ""
    },
    "tags": []
   },
   "source": [
    "# 2. Books by a different name\n",
    "\n",
    "In class, we did PCA on word count data from passages from three books. The passages are in the file [data/passages.txt](https://uodsci.github.io/dsci345/class_material/fall_2022/homeworks/data/passages.txt) and the sources of each passage are in [data/passage_sources.tsv](https://uodsci.github.io/dsci345/class_material/fall_2022/homeworks/data/passage_sources.tsv). Repeat the analysis. You may use the same code from class to read in and process the data,\n",
    "but you should *use [scikit-learn](https://scikit-learn.org/stable/modules/generated/sklearn.decomposition.PCA.html)* to do the PCA.  Your results should be similar but not the same as those from class, since scikit-learn's implementation differs somewhat. Also, you don't need to show everything that we did in class\n",
    "(use your judgement) but we encourage you to explore.\n",
    "\n",
    "*Note:* part of this question is to figure out how what another method gives you maps on to what we discussed in class. Big clues are provided by the sizes of various outputs."
   ]
  },
  {
   "cell_type": "code",
   "execution_count": 191,
   "id": "da18c0e1-f4ac-41a4-8f50-e5133f83b07b",
   "metadata": {},
   "outputs": [],
   "source": [
    "from collections import defaultdict\n",
    "from sklearn.decomposition import PCA\n",
    "from sklearn.preprocessing import StandardScaler\n",
    "from scipy.sparse.linalg import svds\n",
    "\n",
    "pfile = open(\"passages.txt\", \"r\")\n",
    "passages = pfile.read().split(\"\\n\")\n",
    "sources = pd.read_table(\"passage_sources.tsv\")\n",
    "words = np.unique(\" \".join(passages).split(\" \"))[1:]\n",
    "def tabwords(x, words):\n",
    "    d = defaultdict(int)\n",
    "    for w in x.split(\" \"):\n",
    "        d[w] += 1\n",
    "    out = np.array([d[w] for w in words])\n",
    "    return out\n",
    "\n",
    "wordmat = np.array([tabwords(x, words) for x in passages])"
   ]
  },
  {
   "cell_type": "code",
   "execution_count": 192,
   "id": "319f8d47-e9d0-4b1f-8a78-02257606a8f6",
   "metadata": {},
   "outputs": [],
   "source": [
    "x = wordmat - np.mean(wordmat, axis=1)[:,np.newaxis]\n",
    "x /= np.std(x, axis=1)[:, np.newaxis]\n",
    "pcs, evals, evecs = svds(x, k=4)\n",
    "eord = np.argsort(evals)[::-1]\n",
    "evals = evals[eord]\n",
    "evecs = evecs[eord,:]\n",
    "pcs = pcs[:,eord]"
   ]
  },
  {
   "cell_type": "code",
   "execution_count": 193,
   "id": "2d616f16-23d6-414c-ad2a-fecde459c931",
   "metadata": {},
   "outputs": [
    {
     "data": {
      "text/html": [
       "<div>\n",
       "<style scoped>\n",
       "    .dataframe tbody tr th:only-of-type {\n",
       "        vertical-align: middle;\n",
       "    }\n",
       "\n",
       "    .dataframe tbody tr th {\n",
       "        vertical-align: top;\n",
       "    }\n",
       "\n",
       "    .dataframe thead th {\n",
       "        text-align: right;\n",
       "    }\n",
       "</style>\n",
       "<table border=\"1\" class=\"dataframe\">\n",
       "  <thead>\n",
       "    <tr style=\"text-align: right;\">\n",
       "      <th></th>\n",
       "      <th>PC1</th>\n",
       "      <th>PC2</th>\n",
       "      <th>PC3</th>\n",
       "      <th>PC4</th>\n",
       "    </tr>\n",
       "  </thead>\n",
       "  <tbody>\n",
       "    <tr>\n",
       "      <th>a</th>\n",
       "      <td>0.200411</td>\n",
       "      <td>0.037499</td>\n",
       "      <td>0.055687</td>\n",
       "      <td>-0.062291</td>\n",
       "    </tr>\n",
       "    <tr>\n",
       "      <th>aback</th>\n",
       "      <td>-0.000536</td>\n",
       "      <td>0.000239</td>\n",
       "      <td>-0.000244</td>\n",
       "      <td>-0.000006</td>\n",
       "    </tr>\n",
       "    <tr>\n",
       "      <th>abaft</th>\n",
       "      <td>-0.000554</td>\n",
       "      <td>0.000167</td>\n",
       "      <td>-0.000109</td>\n",
       "      <td>0.000107</td>\n",
       "    </tr>\n",
       "    <tr>\n",
       "      <th>abandon</th>\n",
       "      <td>-0.000514</td>\n",
       "      <td>0.000292</td>\n",
       "      <td>0.000012</td>\n",
       "      <td>0.000323</td>\n",
       "    </tr>\n",
       "    <tr>\n",
       "      <th>abandoned</th>\n",
       "      <td>-0.000394</td>\n",
       "      <td>0.000976</td>\n",
       "      <td>-0.000132</td>\n",
       "      <td>-0.000126</td>\n",
       "    </tr>\n",
       "    <tr>\n",
       "      <th>...</th>\n",
       "      <td>...</td>\n",
       "      <td>...</td>\n",
       "      <td>...</td>\n",
       "      <td>...</td>\n",
       "    </tr>\n",
       "    <tr>\n",
       "      <th>zephyr</th>\n",
       "      <td>-0.000553</td>\n",
       "      <td>0.000176</td>\n",
       "      <td>-0.000067</td>\n",
       "      <td>0.000112</td>\n",
       "    </tr>\n",
       "    <tr>\n",
       "      <th>zodiac</th>\n",
       "      <td>-0.000460</td>\n",
       "      <td>0.000522</td>\n",
       "      <td>0.000393</td>\n",
       "      <td>0.000485</td>\n",
       "    </tr>\n",
       "    <tr>\n",
       "      <th>zone</th>\n",
       "      <td>-0.000406</td>\n",
       "      <td>0.000765</td>\n",
       "      <td>0.000035</td>\n",
       "      <td>-0.000451</td>\n",
       "    </tr>\n",
       "    <tr>\n",
       "      <th>zones</th>\n",
       "      <td>-0.000505</td>\n",
       "      <td>0.000423</td>\n",
       "      <td>0.000012</td>\n",
       "      <td>0.000514</td>\n",
       "    </tr>\n",
       "    <tr>\n",
       "      <th>zoroaster</th>\n",
       "      <td>-0.000543</td>\n",
       "      <td>0.000196</td>\n",
       "      <td>-0.000136</td>\n",
       "      <td>-0.000365</td>\n",
       "    </tr>\n",
       "  </tbody>\n",
       "</table>\n",
       "<p>19224 rows × 4 columns</p>\n",
       "</div>"
      ],
      "text/plain": [
       "                PC1       PC2       PC3       PC4\n",
       "a          0.200411  0.037499  0.055687 -0.062291\n",
       "aback     -0.000536  0.000239 -0.000244 -0.000006\n",
       "abaft     -0.000554  0.000167 -0.000109  0.000107\n",
       "abandon   -0.000514  0.000292  0.000012  0.000323\n",
       "abandoned -0.000394  0.000976 -0.000132 -0.000126\n",
       "...             ...       ...       ...       ...\n",
       "zephyr    -0.000553  0.000176 -0.000067  0.000112\n",
       "zodiac    -0.000460  0.000522  0.000393  0.000485\n",
       "zone      -0.000406  0.000765  0.000035 -0.000451\n",
       "zones     -0.000505  0.000423  0.000012  0.000514\n",
       "zoroaster -0.000543  0.000196 -0.000136 -0.000365\n",
       "\n",
       "[19224 rows x 4 columns]"
      ]
     },
     "execution_count": 193,
     "metadata": {},
     "output_type": "execute_result"
    }
   ],
   "source": [
    "loadings = pd.DataFrame(evecs.T, columns=[f\"PC{k}\" for k in range(1,5)], index=words)\n",
    "loadings"
   ]
  },
  {
   "cell_type": "code",
   "execution_count": 194,
   "id": "53f679a0-12f6-4a55-85fc-de7e3d46bd0d",
   "metadata": {},
   "outputs": [],
   "source": [
    "scaler = StandardScaler(with_mean=True, with_std=True)\n",
    "X_scaled = scaler.fit_transform(wordmat)\n",
    "\n",
    "pca = PCA(n_components=4)\n",
    "X_pca = pca.fit_transform(X_scaled)"
   ]
  },
  {
   "cell_type": "code",
   "execution_count": 195,
   "id": "c3994d1a-bca6-4110-8786-63f4df0707df",
   "metadata": {},
   "outputs": [
    {
     "data": {
      "image/png": "[encoded data removed]",
      "text/plain": [
       "<Figure size 1000x600 with 1 Axes>"
      ]
     },
     "metadata": {},
     "output_type": "display_data"
    }
   ],
   "source": [
    "pca_df = pd.DataFrame({\n",
    "    'PC1': X_pca[:, 0],\n",
    "    'PC2': X_pca[:, 1],\n",
    "    'Source': sources['source']\n",
    "})\n",
    "\n",
    "plt.figure(figsize=(10, 6))\n",
    "plt.scatter(data=pca_df, x='PC1', y='PC2')\n",
    "plt.title(\"PCA of Book Passages\")\n",
    "plt.xlabel(\"Principal Component 1\")\n",
    "plt.ylabel(\"Principal Component 2\")\n",
    "plt.grid(True)\n",
    "plt.show()"
   ]
  },
  {
   "cell_type": "markdown",
   "id": "7cc84d22-9abc-466a-8498-980d93f32251",
   "metadata": {
    "editable": true,
    "slideshow": {
     "slide_type": ""
    },
    "tags": []
   },
   "source": [
    "# 3. The Matrix\n",
    "\n",
    "The secret vault can only be unlocked by a stream of numbers satisfying certain statistical properties.\n",
    "You can pass in 5 floating-point numbers at a time,\n",
    "and each set of 5 must be related to eachother in the following way:\n",
    "they should be Normally distributed with mean zero and the ($5 \\times 5$) covariance matrix:\n",
    "$$\\begin{aligned}\n",
    "    M_{ij} = (1+i+j) 2^{-|i-j|} \\qquad \\text{for } 1 \\le j \\le 5, \\quad 1 \\le i \\le 5 .\n",
    "\\end{aligned}$$\n",
    "Write a function to produce a random set of 5 numbers of this form,\n",
    "and test the result by verifying that (a) $\\text{var}[X_2] = 3$ and\n",
    "(b) $\\text{cov}[X_3,X_5] = 1.75$."
   ]
  },
  {
   "cell_type": "code",
   "execution_count": 158,
   "id": "d7fe3de6-216d-4ebe-8d2a-4cae5f60ea43",
   "metadata": {},
   "outputs": [
    {
     "name": "stdout",
     "output_type": "stream",
     "text": [
      "Estimated Var(X2): 3.0095 (expected 3)\n",
      "Estimated Cov(X3, X5): 1.7494 (expected 1.75)\n"
     ]
    }
   ],
   "source": [
    "def construct_cov_matrix(n=5):\n",
    "    M = np.zeros((n, n))\n",
    "    for i in range(n):\n",
    "        for j in range(n):\n",
    "            M[i, j] = (1 + i + j) * (2 ** (-abs(i - j)))\n",
    "    return M\n",
    "\n",
    "def generate_sample(M, size=1):\n",
    "    mean = np.zeros(M.shape[0])\n",
    "    return np.random.multivariate_normal(mean, M, size=size)\n",
    "\n",
    "def test_sample_properties(samples):\n",
    "    empirical_cov = np.cov(samples, rowvar=False)\n",
    "    var_X2 = empirical_cov[1, 1]\n",
    "    cov_X3_X5 = empirical_cov[2, 4]\n",
    "    return var_X2, cov_X3_X5, empirical_cov\n",
    "\n",
    "M = construct_cov_matrix()\n",
    "samples = generate_sample(M, size=100000)\n",
    "var_X2, cov_X3_X5, empirical_cov = test_sample_properties(samples)\n",
    "\n",
    "print(f\"Estimated Var(X2): {var_X2:.4f} (expected 3)\")\n",
    "print(f\"Estimated Cov(X3, X5): {cov_X3_X5:.4f} (expected 1.75)\")"
   ]
  }
 ],
 "metadata": {
  "celltoolbar": "Tags",
  "kernelspec": {
   "display_name": "Python [conda env:base] *",
   "language": "python",
   "name": "conda-base-py"
  },
  "language_info": {
   "codemirror_mode": {
    "name": "ipython",
    "version": 3
   },
   "file_extension": ".py",
   "mimetype": "text/x-python",
   "name": "python",
   "nbconvert_exporter": "python",
   "pygments_lexer": "ipython3",
   "version": "3.12.7"
  }
 },
 "nbformat": 4,
 "nbformat_minor": 5
}
